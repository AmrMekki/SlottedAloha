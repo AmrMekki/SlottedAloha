{
 "cells": [
  {
   "cell_type": "code",
   "execution_count": 123,
   "metadata": {},
   "outputs": [],
   "source": [
    "import matplotlib.pyplot as plt\n",
    "import random\n",
    "import numpy as np\n",
    "from cmath import nan\n",
    "import warnings\n"
   ]
  },
  {
   "cell_type": "code",
   "execution_count": 124,
   "metadata": {},
   "outputs": [],
   "source": [
    "class Node:\n",
    "    def __init__(self, num, transmitStatus = False, numOfPackets = 1):\n",
    "        self.num = num\n",
    "        self.transmitStatus = transmitStatus\n",
    "        self.numOfPackets = numOfPackets\n"
   ]
  },
  {
   "cell_type": "code",
   "execution_count": 125,
   "metadata": {},
   "outputs": [],
   "source": [
    "def RandomStatus(numOfNodes):\n",
    "    if random.randint(1,numOfNodes) == 1:\n",
    "        return True\n",
    "    return False"
   ]
  },
  {
   "cell_type": "code",
   "execution_count": 126,
   "metadata": {},
   "outputs": [],
   "source": [
    "n1 = []\n",
    "n2 = []\n",
    "n3 = []\n",
    "array_list = [n1,n2,n3]\n",
    "Empty = []\n",
    "Collision = []\n",
    "Success = []\n",
    "efficiency = []\n",
    "listOfNodes = []\n",
    "numOfNodes = 3\n",
    "NumOfSlots = 10\n",
    "\n",
    "for i in range(numOfNodes):\n",
    "    listOfNodes.append( Node(i+1))\n",
    "for i in range(NumOfSlots):\n",
    "    NumTrue = 0\n",
    "    for node in listOfNodes:\n",
    "        if(node.numOfPackets!=0):\n",
    "            node.transmitStatus = RandomStatus(numOfNodes)\n",
    "        #print(node.transmitStatus)\n",
    "        if(node.transmitStatus):\n",
    "            #print(\"success\", node.num)\n",
    "            array_list[node.num - 1].append(node.num)\n",
    "            NumTrue+=1\n",
    "        else:\n",
    "            array_list[node.num - 1].append(nan)            \n",
    "    if(NumTrue==0):\n",
    "        Empty.append(0.5)\n",
    "        Collision.append(nan)\n",
    "        Success.append(nan)\n",
    "    elif(NumTrue==1):\n",
    "        for node in listOfNodes:\n",
    "            if(node.transmitStatus==True):\n",
    "                node.numOfPackets-=1\n",
    "                node.transmitStatus=False\n",
    "        Empty.append(nan)\n",
    "        Collision.append(nan)\n",
    "        Success.append(0.5)\n",
    "    else:\n",
    "        Empty.append(nan)\n",
    "        Collision.append(0.5)\n",
    "        Success.append(nan)"
   ]
  },
  {
   "cell_type": "code",
   "execution_count": 127,
   "metadata": {},
   "outputs": [
    {
     "name": "stdout",
     "output_type": "stream",
     "text": [
      "[1, nan, 1, nan, nan, nan, nan, nan, nan, nan]\n",
      "[nan, nan, nan, nan, 2, nan, 2, nan, nan, nan]\n",
      "[3, nan, nan, nan, 3, 3, nan, nan, nan, nan]\n",
      "Empty [nan, 0.5, nan, 0.5, nan, nan, nan, 0.5, 0.5, 0.5]\n",
      "Collision [0.5, nan, nan, nan, 0.5, nan, nan, nan, nan, nan]\n",
      "Success [nan, nan, 0.5, nan, nan, 0.5, 0.5, nan, nan, nan]\n"
     ]
    }
   ],
   "source": [
    "for node in array_list:\n",
    "    print(node)\n",
    "print(\"Empty\",Empty)\n",
    "print(\"Collision\",Collision)\n",
    "print(\"Success\",Success)"
   ]
  },
  {
   "cell_type": "code",
   "execution_count": 128,
   "metadata": {},
   "outputs": [
    {
     "data": {
      "image/png": "[encoded data removed]",
      "text/plain": [
       "<Figure size 864x576 with 1 Axes>"
      ]
     },
     "metadata": {
      "needs_background": "light"
     },
     "output_type": "display_data"
    }
   ],
   "source": [
    "warnings.filterwarnings('ignore')\n",
    "\n",
    "plt.figure(figsize=(12, 8))\n",
    "# plotting the points \n",
    "plt.plot(n1,\"ob\",color='orange', label=\"Node1\")\n",
    "plt.plot(n2, \"ob\", color='blue', label=\"Node2\")\n",
    "plt.plot(n3, \"ob\", color='purple', label=\"Node3\")\n",
    "plt.plot(Empty, \"ob\", color='grey',marker='s', label=\"Empty\")\n",
    "plt.plot(Collision, \"ob\", color='red', marker='X', label=\"Collision\")\n",
    "plt.plot(Success, \"ob\", color='green', marker='P', label=\"Success\")\n",
    "\n",
    "# naming the x axis\n",
    "plt.xlabel('Time Slot - axis')\n",
    "# naming the y axis\n",
    "plt.ylabel('Node# - axis')\n",
    "\n",
    "plt.axis([-1, 10, 0, 5])\n",
    "\n",
    "plt.title('Slotted Aloha')\n",
    "plt.grid() \n",
    "\n",
    "\n",
    "plt.legend()\n",
    "plt.show()\n"
   ]
  }
 ],
 "metadata": {
  "kernelspec": {
   "display_name": "Python 3.9.13 64-bit (windows store)",
   "language": "python",
   "name": "python3"
  },
  "language_info": {
   "codemirror_mode": {
    "name": "ipython",
    "version": 3
   },
   "file_extension": ".py",
   "mimetype": "text/x-python",
   "name": "python",
   "nbconvert_exporter": "python",
   "pygments_lexer": "ipython3",
   "version": "3.9.13"
  },
  "orig_nbformat": 4,
  "vscode": {
   "interpreter": {
    "hash": "e83f520a7929674eccf0ac68acce5e3c32e93178a10045b372d8f5e66f90ae45"
   }
  }
 },
 "nbformat": 4,
 "nbformat_minor": 2
}
